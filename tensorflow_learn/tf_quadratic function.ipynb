{
 "cells": [
  {
   "cell_type": "code",
   "execution_count": 2,
   "metadata": {},
   "outputs": [
    {
     "name": "stdout",
     "output_type": "stream",
     "text": [
      "0.21395259\n",
      "0.0023011446\n"
     ]
    }
   ],
   "source": [
    "import tensorflow as tf\n",
    "import numpy as np\n",
    "import os \n",
    "os.environ['TF_CPP_MIN_LOG_LEVEL'] = '2'\n",
    "\n",
    "def add_layer(inputs,in_size,out_size,activation_function = None):\n",
    "\tWeights = tf.Variable(tf.random_normal([in_size,out_size]))\n",
    "\tbiases = tf.Variable(tf.zeros([1,out_size]) + 0.1)\n",
    "\tWx_plus_b = tf.matmul(inputs, Weights) + biases\n",
    "\tif activation_function is None:\n",
    "\t\toutputs = Wx_plus_b\n",
    "\telse:\n",
    "\t\toutputs = activation_function(Wx_plus_b)\n",
    "\treturn outputs\n",
    "\n",
    "x_data = np.linspace(-1,1,300)[:,np.newaxis]\n",
    "noise = np.random.normal(0,0.05,x_data.shape)\n",
    "y_data = np.square(x_data) - 0.5 + noise\n",
    "\n",
    "xs = tf.placeholder(tf.float32, [None, 1])\n",
    "ys = tf.placeholder(tf.float32,[None, 1])\n",
    "\n",
    "l1 = add_layer(xs,1,10,activation_function = tf.nn.relu)\n",
    "prediction = add_layer(l1,10,1,activation_function = None)\n",
    "\n",
    "loss = tf.reduce_mean(tf.reduce_sum(tf.square(ys - prediction),reduction_indices = [1]))\n",
    "train_step = tf.train.GradientDescentOptimizer(0.1).minimize(loss)\n",
    "\n",
    "init_op = tf.global_variables_initializer()\n",
    "\n",
    "with tf.Session() as sess:\n",
    "\tsess.run(init_op)\n",
    "\tfor x in range(10001):\n",
    "\t\tsess.run(train_step, feed_dict = {xs:x_data,ys:y_data})\n",
    "\t\tif x % 10000 == 0:\n",
    "\t\t\tprint(sess.run(loss, feed_dict = {xs:x_data,ys:y_data}))\n"
   ]
  },
  {
   "cell_type": "code",
   "execution_count": null,
   "metadata": {},
   "outputs": [],
   "source": []
  }
 ],
 "metadata": {
  "kernelspec": {
   "display_name": "Python 3",
   "language": "python",
   "name": "python3"
  },
  "language_info": {
   "codemirror_mode": {
    "name": "ipython",
    "version": 3
   },
   "file_extension": ".py",
   "mimetype": "text/x-python",
   "name": "python",
   "nbconvert_exporter": "python",
   "pygments_lexer": "ipython3",
   "version": "3.6.2"
  }
 },
 "nbformat": 4,
 "nbformat_minor": 2
}
